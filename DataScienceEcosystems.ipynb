{
 "cells": [
  {
   "cell_type": "markdown",
   "metadata": {},
   "source": [
    "<center>\n",
    "    <img src=\"https://cf-courses-data.s3.us.cloud-object-storage.appdomain.cloud/IBMDeveloperSkillsNetwork-DS0105EN-SkillsNetwork/labs/Module2/images/SN_web_lightmode.png\" width=\"300\" alt=\"cognitiveclass.ai logo\">\n",
    "</center>\n"
   ]
  },
  {
   "cell_type": "markdown",
   "metadata": {},
   "source": [
    "#### Add your code below following the instructions given in the course\n"
   ]
  },
  {
   "cell_type": "markdown",
   "metadata": {},
   "source": [
    "# Data Science Tools and Ecosystem"
   ]
  },
  {
   "cell_type": "markdown",
   "metadata": {},
   "source": [
    "**In this notebook, Data Science Tools and Ecosystems are summarized**"
   ]
  },
  {
   "cell_type": "markdown",
   "metadata": {},
   "source": [
    "__Objectives:__ *Key takeaways from this course*\n",
    "\n",
    "*+* List popular languages for Data Science\n",
    "\n",
    "*+* List popular libraries for Data Science\n",
    "\n",
    "*+* Evaluate simple arithmetic expressions in Python \n",
    "\n",
    "**Author:** Hanna Susic"
   ]
  },
  {
   "cell_type": "markdown",
   "metadata": {},
   "source": [
    "*Some of the popular languages that Data Scientists use are:*\n",
    "\n",
    "*1.* Python\n",
    "\n",
    "*2.* R \n",
    "\n",
    "*3.* SQL \n",
    "\n",
    "*4.* C++ "
   ]
  },
  {
   "cell_type": "markdown",
   "metadata": {},
   "source": [
    "*Some of the popular libraries used by Data Scientists include:* \n",
    "\n",
    "*1.* Pandas\n",
    "\n",
    "*2.* NumPy \n",
    "\n",
    "*3.* Matplotlib \n",
    "\n",
    "*4.* Scikit-learn \n"
   ]
  },
  {
   "cell_type": "markdown",
   "metadata": {},
   "source": [
    "## Data Science Tools \n",
    "\n",
    "| Order | Development Environment Open Source Tool | \n",
    "|-------------| ------ | \n",
    "| 1 | Jupyter Notebook | \n",
    "| 2 | R Studio | \n",
    "| 3 | Apache Zeppelin | "
   ]
  },
  {
   "cell_type": "markdown",
   "metadata": {},
   "source": [
    "***Below are a few examples of evaluating arithmetic expressions in Python.***"
   ]
  },
  {
   "cell_type": "markdown",
   "metadata": {},
   "source": [
    "*This is a simple arithmetic expression, indicating that we first need to multiply, then add all remaining integers*"
   ]
  },
  {
   "cell_type": "code",
   "execution_count": 3,
   "metadata": {},
   "outputs": [
    {
     "data": {
      "text/plain": [
       "17"
      ]
     },
     "execution_count": 3,
     "metadata": {},
     "output_type": "execute_result"
    }
   ],
   "source": [
    "(3*4)+5"
   ]
  },
  {
   "cell_type": "markdown",
   "metadata": {},
   "source": [
    "*To convert minutes to hours, this expression will show we need to convert minutes by dividing the number by 60 (indicative of 1 full hour)*"
   ]
  },
  {
   "cell_type": "code",
   "execution_count": 4,
   "metadata": {},
   "outputs": [
    {
     "data": {
      "text/plain": [
       "3.3333333333333335"
      ]
     },
     "execution_count": 4,
     "metadata": {},
     "output_type": "execute_result"
    }
   ],
   "source": [
    "200/60"
   ]
  },
  {
   "cell_type": "code",
   "execution_count": null,
   "metadata": {},
   "outputs": [],
   "source": []
  }
 ],
 "metadata": {
  "kernelspec": {
   "display_name": "Python 3 (ipykernel)",
   "language": "python",
   "name": "python3"
  },
  "language_info": {
   "codemirror_mode": {
    "name": "ipython",
    "version": 3
   },
   "file_extension": ".py",
   "mimetype": "text/x-python",
   "name": "python",
   "nbconvert_exporter": "python",
   "pygments_lexer": "ipython3",
   "version": "3.12.8"
  }
 },
 "nbformat": 4,
 "nbformat_minor": 4
}
