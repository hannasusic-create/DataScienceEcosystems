{
  "metadata": {
    "kernelspec": {
      "name": "python",
      "display_name": "Python (Pyodide)",
      "language": "python"
    },
    "language_info": {
      "codemirror_mode": {
        "name": "python",
        "version": 3
      },
      "file_extension": ".py",
      "mimetype": "text/x-python",
      "name": "python",
      "nbconvert_exporter": "python",
      "pygments_lexer": "ipython3",
      "version": "3.8"
    }
  },
  "nbformat_minor": 4,
  "nbformat": 4,
  "cells": [
    {
      "cell_type": "markdown",
      "source": "# Data Science Tools and Ecosystem",
      "metadata": {}
    },
    {
      "cell_type": "markdown",
      "source": "**In this notebook, Data Science Tools and Ecosystems are summarized**",
      "metadata": {}
    },
    {
      "cell_type": "markdown",
      "source": "__Objectives:__ *Key takeways from this course*\n\n*+* List popular languages for Data Science\n\n*+* List popular libraries for Data Science\n\n*+* Evaluate simple arithmetic expressions in Python\n\n**Author:** Hanna Susic",
      "metadata": {}
    },
    {
      "cell_type": "markdown",
      "source": "*Some of the popular languages that Data Scientists use are:* \n\n*1.* Python\n\n*2.* R \n\n*3.* SQL\n\n*4.* C++\n",
      "metadata": {}
    },
    {
      "cell_type": "markdown",
      "source": "*Some of the popular libraries used by Data Scientists include:* \n\n*1.* Pandas\n\n*2.* NumPy\n\n*3.* Matplotlib\n\n*4.* Scikit-learn\n",
      "metadata": {}
    },
    {
      "cell_type": "markdown",
      "source": "## Data Science Tools\n\n| Order | Development Environemnt Open Source Tool |\n| -------------| ------ |\n| 1 | Jupyter Notebook|\n| 2 | RStudio |\n| 3 | Apache Zeppelin |\n",
      "metadata": {}
    },
    {
      "cell_type": "markdown",
      "source": "***Below are a few examples of evaluating arithmetic expressions in Python.***",
      "metadata": {}
    },
    {
      "cell_type": "markdown",
      "source": "*This is a simple arithmetic expression, indicating that we first need to multiply, then add all remaining integers*",
      "metadata": {}
    },
    {
      "cell_type": "code",
      "source": "(3*4)+5\n",
      "metadata": {
        "trusted": true
      },
      "outputs": [
        {
          "execution_count": 3,
          "output_type": "execute_result",
          "data": {
            "text/plain": "17"
          },
          "metadata": {}
        }
      ],
      "execution_count": 3
    },
    {
      "cell_type": "markdown",
      "source": "*To convert minutes to hours, this expression will show we need to convert minutes by dividing the number by 60 (indicative of 1 full hour)*",
      "metadata": {}
    },
    {
      "cell_type": "code",
      "source": "200/60",
      "metadata": {
        "trusted": true
      },
      "outputs": [
        {
          "execution_count": 6,
          "output_type": "execute_result",
          "data": {
            "text/plain": "3.3333333333333335"
          },
          "metadata": {}
        }
      ],
      "execution_count": 6
    }
  ]
}